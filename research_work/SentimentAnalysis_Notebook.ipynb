{
 "cells": [
  {
   "cell_type": "code",
   "execution_count": 3,
   "id": "503c5e61",
   "metadata": {},
   "outputs": [],
   "source": [
    "import json\n",
    "import pandas as pd\n",
    "import tensorflow as tf\n",
    "import tensorflow_text as tf_text\n",
    "import keras.backend as K\n",
    "import tensorflow_addons as tfa\n",
    "import tensorflow_hub as hub\n",
    "from official.nlp import optimization # # pip install tf-models-official\n",
    "import matplotlib.pyplot as plt\n",
    "import pingouin as pg\n",
    "from scipy.stats import linregress, t\n",
    "from sklearn.preprocessing import StandardScaler\n",
    "from sklearn.model_selection import train_test_split\n",
    "import tqdm\n",
    "from datasets import Dataset\n",
    "\n",
    "from sklearn.pipeline import Pipeline\n",
    "from preprocessing_tools import Normalizer, RatingTransformer\n",
    "from model_tools import build_model, NumpyEncoder"
   ]
  },
  {
   "cell_type": "code",
   "execution_count": 6,
   "id": "f8ba8354",
   "metadata": {},
   "outputs": [],
   "source": [
    "import os\n",
    "import json\n",
    "data = list()\n",
    "for file in os.listdir(\"./data\"):\n",
    "    with open(\"./data/\"+file, 'rb') as f:\n",
    "        print(f\"Read {file}\")\n",
    "        data_ = json.load(f)\n",
    "        data += data_\n",
    "    "
   ]
  },
  {
   "cell_type": "code",
   "execution_count": 9,
   "id": "933af317",
   "metadata": {},
   "outputs": [],
   "source": [
    "records = [{\"Title\": record.get('book_title'),\n",
    "            \"Review\": record.get('full_comment'),\n",
    "            \"RatingOf5\": record.get('stars'),\n",
    "            } for record in data]\n",
    "df = pd.DataFrame(records)\n",
    "df.to_csv(\"TITLE_REVIEW_RATING.csv\")"
   ]
  },
  {
   "cell_type": "code",
   "execution_count": 3,
   "id": "419a6d56",
   "metadata": {},
   "outputs": [],
   "source": [
    "df = pd.read_csv(\"TITLE_REVIEW_RATING.csv\")"
   ]
  },
  {
   "cell_type": "markdown",
   "id": "6295da6d",
   "metadata": {},
   "source": [
    "### Data exploration"
   ]
  },
  {
   "cell_type": "code",
   "execution_count": 3,
   "id": "0406d233",
   "metadata": {},
   "outputs": [
    {
     "name": "stdout",
     "output_type": "stream",
     "text": [
      "\n",
      "Total # of reviews:  1734345\n",
      "\n",
      "# of empty records:\n",
      " Title             0\n",
      "Review       701963\n",
      "RatingOf5    223274\n",
      "dtype: int64\n",
      "\n",
      "# of unique titles:  57982\n",
      "\n",
      "Average rating:  3.736667568896498\n"
     ]
    }
   ],
   "source": [
    "print(\"\\nTotal # of reviews: \", len(df))\n",
    "print(\"\\n# of empty records:\\n\", df.isnull().sum())\n",
    "print(\"\\n# of unique titles: \", len(df.Title.unique()))\n",
    "print(\"\\nAverage rating: \", df.RatingOf5.mean())"
   ]
  },
  {
   "cell_type": "markdown",
   "id": "372c21e7",
   "metadata": {},
   "source": [
    "Non-text reviews or reviewss without a rating don't serve much purpose given this is a sentiment NLP task that requires text data and a rating as a label. I'll isolate and drop null records"
   ]
  },
  {
   "cell_type": "code",
   "execution_count": 4,
   "id": "91f9daa5",
   "metadata": {},
   "outputs": [
    {
     "data": {
      "text/plain": [
       "8391      NaN\n",
       "59844     NaN\n",
       "854341    NaN\n",
       "14102     NaN\n",
       "111632    NaN\n",
       "Name: Review, dtype: object"
      ]
     },
     "execution_count": 4,
     "metadata": {},
     "output_type": "execute_result"
    }
   ],
   "source": [
    "df[df.Review.isna() == True].sample(5)['Review']"
   ]
  },
  {
   "cell_type": "code",
   "execution_count": 5,
   "id": "3fcc74c1",
   "metadata": {},
   "outputs": [],
   "source": [
    "df.dropna(inplace=True)"
   ]
  },
  {
   "cell_type": "code",
   "execution_count": 7,
   "id": "9ea40e9c",
   "metadata": {},
   "outputs": [
    {
     "data": {
      "text/plain": [
       "Series([], Name: Review, dtype: object)"
      ]
     },
     "execution_count": 7,
     "metadata": {},
     "output_type": "execute_result"
    }
   ],
   "source": [
    "df[df.Review.isna() == True][ 'Review']"
   ]
  },
  {
   "cell_type": "markdown",
   "id": "5e70accd",
   "metadata": {},
   "source": [
    "Given the large size of the data, cutting the review length down will prove very beneficial. First, exploration is needed to ensure this doesn't give rise to bias.\n",
    "\n",
    "Further exploration into review length and the distribution of reviews shows the reviews are skewed, with lower ratings creating a relatively thin tail. Further, most of the reviews are short. Finally, there is no significant (based on an eyeball estimate) association between the length of reviews and the magnitude of rating. This can be tested using the t-test since we're comparing means."
   ]
  },
  {
   "cell_type": "code",
   "execution_count": 8,
   "id": "625fcc0f",
   "metadata": {},
   "outputs": [
    {
     "data": {
      "text/plain": [
       "(3.732681594559398, <AxesSubplot:>)"
      ]
     },
     "execution_count": 8,
     "metadata": {},
     "output_type": "execute_result"
    },
    {
     "data": {
      "image/png": "[encoded data removed]",
      "text/plain": [
       "<Figure size 432x288 with 1 Axes>"
      ]
     },
     "metadata": {
      "needs_background": "light"
     },
     "output_type": "display_data"
    }
   ],
   "source": [
    "# average review\n",
    "df.RatingOf5.mean(), df.RatingOf5.value_counts().plot(kind='bar')"
   ]
  },
  {
   "cell_type": "code",
   "execution_count": 9,
   "id": "69e9ad9b",
   "metadata": {},
   "outputs": [
    {
     "data": {
      "text/plain": [
       "<AxesSubplot:ylabel='Frequency'>"
      ]
     },
     "execution_count": 9,
     "metadata": {},
     "output_type": "execute_result"
    },
    {
     "data": {
      "image/png": "[encoded data removed]",
      "text/plain": [
       "<Figure size 432x288 with 1 Axes>"
      ]
     },
     "metadata": {
      "needs_background": "light"
     },
     "output_type": "display_data"
    }
   ],
   "source": [
    "df['Review_length'] = df[\"Review\"].apply(lambda x: len(x))\n",
    "df['Review_length'].plot(kind='hist', bins = 100)"
   ]
  },
  {
   "cell_type": "code",
   "execution_count": 10,
   "id": "0ab83d47",
   "metadata": {},
   "outputs": [
    {
     "data": {
      "text/plain": [
       "(None, Index(['Title', 'Review', 'Rating', 'Review_length'], dtype='object'))"
      ]
     },
     "execution_count": 10,
     "metadata": {},
     "output_type": "execute_result"
    }
   ],
   "source": [
    "df.rename(columns={\"RatingOf5\": \"Rating\"}, inplace=True), df.columns"
   ]
  },
  {
   "cell_type": "code",
   "execution_count": 11,
   "id": "71db44aa",
   "metadata": {},
   "outputs": [
    {
     "data": {
      "text/html": [
       "<div>\n",
       "<style scoped>\n",
       "    .dataframe tbody tr th:only-of-type {\n",
       "        vertical-align: middle;\n",
       "    }\n",
       "\n",
       "    .dataframe tbody tr th {\n",
       "        vertical-align: top;\n",
       "    }\n",
       "\n",
       "    .dataframe thead th {\n",
       "        text-align: right;\n",
       "    }\n",
       "</style>\n",
       "<table border=\"1\" class=\"dataframe\">\n",
       "  <thead>\n",
       "    <tr style=\"text-align: right;\">\n",
       "      <th></th>\n",
       "      <th>Review_length</th>\n",
       "    </tr>\n",
       "    <tr>\n",
       "      <th>Rating</th>\n",
       "      <th></th>\n",
       "    </tr>\n",
       "  </thead>\n",
       "  <tbody>\n",
       "    <tr>\n",
       "      <th>1.0</th>\n",
       "      <td>865.780870</td>\n",
       "    </tr>\n",
       "    <tr>\n",
       "      <th>2.0</th>\n",
       "      <td>847.196109</td>\n",
       "    </tr>\n",
       "    <tr>\n",
       "      <th>3.0</th>\n",
       "      <td>808.391037</td>\n",
       "    </tr>\n",
       "    <tr>\n",
       "      <th>4.0</th>\n",
       "      <td>889.441662</td>\n",
       "    </tr>\n",
       "    <tr>\n",
       "      <th>5.0</th>\n",
       "      <td>873.705297</td>\n",
       "    </tr>\n",
       "  </tbody>\n",
       "</table>\n",
       "</div>"
      ],
      "text/plain": [
       "        Review_length\n",
       "Rating               \n",
       "1.0        865.780870\n",
       "2.0        847.196109\n",
       "3.0        808.391037\n",
       "4.0        889.441662\n",
       "5.0        873.705297"
      ]
     },
     "execution_count": 11,
     "metadata": {},
     "output_type": "execute_result"
    }
   ],
   "source": [
    "# An eye-ball estiamte shows no real difference between review lengths and rating\n",
    "df.groupby('Rating').mean()"
   ]
  },
  {
   "cell_type": "markdown",
   "id": "9591168f",
   "metadata": {},
   "source": [
    "I can use scipy or pingouin to confirm the above hypothesis"
   ]
  },
  {
   "cell_type": "code",
   "execution_count": 12,
   "id": "414ef899",
   "metadata": {},
   "outputs": [
    {
     "data": {
      "text/plain": [
       "LinregressResult(slope=0.015635474321477407, intercept=3.732681594559398, rvalue=0.013790745800627455, pvalue=4.551195016363027e-43, stderr=0.0011363987546924386, intercept_stderr=0.0011363987546924414)"
      ]
     },
     "execution_count": 12,
     "metadata": {},
     "output_type": "execute_result"
    }
   ],
   "source": [
    "# A stastitcal measure like the t-test can provide a more objective judgment\n",
    "y = df.Rating.values\n",
    "X = StandardScaler().fit_transform(X=df.Review_length.values.reshape(-1,1)).flatten()\n",
    "results = linregress(X, y)\n",
    "results"
   ]
  },
  {
   "cell_type": "code",
   "execution_count": 13,
   "id": "edc4da2f",
   "metadata": {},
   "outputs": [
    {
     "data": {
      "text/plain": [
       "names               x1\n",
       "coef          0.015635\n",
       "se            0.001136\n",
       "T            13.758792\n",
       "pval               0.0\n",
       "r2             0.00019\n",
       "adj_r2        0.000189\n",
       "CI[0.5%]      0.012708\n",
       "CI[99.5%]     0.018563\n",
       "Name: 1, dtype: object"
      ]
     },
     "execution_count": 13,
     "metadata": {},
     "output_type": "execute_result"
    }
   ],
   "source": [
    "lm = pg.linear_regression(X, y, alpha = 0.01)\n",
    "lm.iloc[1]"
   ]
  },
  {
   "cell_type": "code",
   "execution_count": 14,
   "id": "e8a38a81",
   "metadata": {},
   "outputs": [
    {
     "data": {
      "text/plain": [
       "<matplotlib.collections.PathCollection at 0x25e1fc2d000>"
      ]
     },
     "execution_count": 14,
     "metadata": {},
     "output_type": "execute_result"
    },
    {
     "data": {
      "image/png": "[encoded data removed]",
      "text/plain": [
       "<Figure size 432x288 with 1 Axes>"
      ]
     },
     "metadata": {
      "needs_background": "light"
     },
     "output_type": "display_data"
    }
   ],
   "source": [
    "plt.scatter(X,y, alpha=0.1)"
   ]
  },
  {
   "cell_type": "markdown",
   "id": "c1231cbb",
   "metadata": {},
   "source": [
    "Given the significance of the t-stat and insignificance of p-value, there is indeed correlation meaning one cannot simply remove longer reviews. The alternative is yo drop a random sample from the data and test whether the regression metrics are maintained."
   ]
  },
  {
   "cell_type": "code",
   "execution_count": 15,
   "id": "74ff9fa8",
   "metadata": {},
   "outputs": [
    {
     "data": {
      "text/plain": [
       "(<AxesSubplot:>,)"
      ]
     },
     "execution_count": 15,
     "metadata": {},
     "output_type": "execute_result"
    },
    {
     "data": {
      "image/png": "[encoded data removed]",
      "text/plain": [
       "<Figure size 432x288 with 1 Axes>"
      ]
     },
     "metadata": {
      "needs_background": "light"
     },
     "output_type": "display_data"
    }
   ],
   "source": [
    "df_new = df.sample(100000)\n",
    "df_new.Rating.value_counts().plot(kind='bar'), "
   ]
  },
  {
   "cell_type": "code",
   "execution_count": 16,
   "id": "9b043403",
   "metadata": {},
   "outputs": [
    {
     "data": {
      "text/plain": [
       "<AxesSubplot:ylabel='Frequency'>"
      ]
     },
     "execution_count": 16,
     "metadata": {},
     "output_type": "execute_result"
    },
    {
     "data": {
      "image/png": "[encoded data removed]",
      "text/plain": [
       "<Figure size 432x288 with 1 Axes>"
      ]
     },
     "metadata": {
      "needs_background": "light"
     },
     "output_type": "display_data"
    }
   ],
   "source": [
    "df_new['Review_length'].plot(kind='hist', bins = 100)"
   ]
  },
  {
   "cell_type": "code",
   "execution_count": 17,
   "id": "8991d514",
   "metadata": {},
   "outputs": [],
   "source": [
    "y = df_new.Rating.values\n",
    "X = StandardScaler().fit_transform(X=df_new.Review_length.values.reshape(-1,1)).flatten()"
   ]
  },
  {
   "cell_type": "code",
   "execution_count": 18,
   "id": "4c469139",
   "metadata": {},
   "outputs": [
    {
     "data": {
      "text/plain": [
       "LinregressResult(slope=0.01447281681853353, intercept=3.7341, rvalue=0.012760436301992339, pvalue=5.452837095436334e-05, stderr=0.0035863818143671974, intercept_stderr=0.0035863818143671983)"
      ]
     },
     "execution_count": 18,
     "metadata": {},
     "output_type": "execute_result"
    }
   ],
   "source": [
    "results = linregress(X, y)\n",
    "results"
   ]
  },
  {
   "cell_type": "code",
   "execution_count": 19,
   "id": "d19f71a4",
   "metadata": {},
   "outputs": [
    {
     "data": {
      "text/plain": [
       "names              x1\n",
       "coef         0.014473\n",
       "se           0.003586\n",
       "T            4.035492\n",
       "pval         0.000055\n",
       "r2           0.000163\n",
       "adj_r2       0.000153\n",
       "CI[0.5%]     0.005235\n",
       "CI[99.5%]    0.023711\n",
       "Name: 1, dtype: object"
      ]
     },
     "execution_count": 19,
     "metadata": {},
     "output_type": "execute_result"
    }
   ],
   "source": [
    "lm = pg.linear_regression(X, y, alpha = 0.01)\n",
    "lm.iloc[1]"
   ]
  },
  {
   "cell_type": "code",
   "execution_count": 20,
   "id": "4c5693a7",
   "metadata": {},
   "outputs": [
    {
     "data": {
      "text/plain": [
       "<matplotlib.collections.PathCollection at 0x25e1f9891b0>"
      ]
     },
     "execution_count": 20,
     "metadata": {},
     "output_type": "execute_result"
    },
    {
     "data": {
      "image/png": "[encoded data removed]",
      "text/plain": [
       "<Figure size 432x288 with 1 Axes>"
      ]
     },
     "metadata": {
      "needs_background": "light"
     },
     "output_type": "display_data"
    }
   ],
   "source": [
    "plt.scatter(X,y, alpha=0.1)"
   ]
  },
  {
   "cell_type": "markdown",
   "id": "2739c430",
   "metadata": {},
   "source": [
    "Thus I've reduced the data size to 100K reviews while 'generally' maintaing the distribution of length to rating magnitude and core regression metrics."
   ]
  },
  {
   "cell_type": "code",
   "execution_count": 45,
   "id": "eb666aa7",
   "metadata": {},
   "outputs": [],
   "source": [
    "df_new.to_csv('Raw_text_data.csv', index=False)"
   ]
  },
  {
   "cell_type": "markdown",
   "id": "ec545b1a",
   "metadata": {},
   "source": [
    "### Data normalization"
   ]
  },
  {
   "cell_type": "code",
   "execution_count": 235,
   "id": "889475b2",
   "metadata": {},
   "outputs": [],
   "source": [
    "df = pd.read_csv('Raw_text_data.csv')"
   ]
  },
  {
   "cell_type": "code",
   "execution_count": 35,
   "id": "eb0e74b3",
   "metadata": {},
   "outputs": [],
   "source": [
    "# TF BERTs feature a preprocessing layer, but I want to ensure the punctutaion and lower casing is done per \n",
    "\n",
    "from sklearn.base import BaseEstimator, TransformerMixin\n",
    "\n",
    "\n",
    "\n",
    "class Normalizer(BaseEstimator, TransformerMixin):\n",
    "    def fit(self, X: pd.DataFrame, y: pd.DataFrame=None, ):\n",
    "        return self\n",
    "    \n",
    "    def normalize(self, text: str) -> str:\n",
    "        '''\n",
    "        Normalizes a single string; no tokenization applied!!\n",
    "        This function will 'detensorify' strings to be 'retensored'\n",
    "        later when created tensorflow from_tensor_slices.\n",
    "        '''\n",
    "        text = tf_text.normalize_utf8(text, 'NFKD')\n",
    "        text = tf.strings.lower(text)\n",
    "        text = tf.strings.regex_replace(text, '[^ a-z]', '')\n",
    "        text = tf.strings.strip(text).numpy().decode()\n",
    "        return text\n",
    "    \n",
    "    def transform(self, data):\n",
    "        new_data = data.copy()\n",
    "        new_data['Review'] = new_data['Review'].apply(self.normalize)\n",
    "        \n",
    "        return new_data"
   ]
  },
  {
   "cell_type": "code",
   "execution_count": 39,
   "id": "60f9ba3a",
   "metadata": {},
   "outputs": [],
   "source": [
    "df = Normalizer().fit_transform(df)"
   ]
  },
  {
   "cell_type": "code",
   "execution_count": 40,
   "id": "235ae186",
   "metadata": {},
   "outputs": [],
   "source": [
    "df['Review_length'] = df[\"Review\"].apply(lambda x: len(x))"
   ]
  },
  {
   "cell_type": "code",
   "execution_count": 41,
   "id": "c87f17da",
   "metadata": {},
   "outputs": [
    {
     "data": {
      "text/plain": [
       "[19837, 11241, 7593, 7574, 7455, 7164, 6856, 6120, 6073, 5779]"
      ]
     },
     "execution_count": 41,
     "metadata": {},
     "output_type": "execute_result"
    }
   ],
   "source": [
    "# A significantnumber of long review are lost\n",
    "sorted(df_before['Review_length'] - df['Review_length'])[::-1][:10]"
   ]
  },
  {
   "cell_type": "code",
   "execution_count": 42,
   "id": "24723677",
   "metadata": {},
   "outputs": [
    {
     "data": {
      "text/plain": [
       "586"
      ]
     },
     "execution_count": 42,
     "metadata": {},
     "output_type": "execute_result"
    }
   ],
   "source": [
    "# 586 total reviews were lost and feature letters in Hebrew, Arabic, Greek, etc.\n",
    "len(df_before[df['Review_length'] == 0])"
   ]
  },
  {
   "cell_type": "code",
   "execution_count": 43,
   "id": "e08a55fe",
   "metadata": {},
   "outputs": [
    {
     "data": {
      "text/html": [
       "<div>\n",
       "<style scoped>\n",
       "    .dataframe tbody tr th:only-of-type {\n",
       "        vertical-align: middle;\n",
       "    }\n",
       "\n",
       "    .dataframe tbody tr th {\n",
       "        vertical-align: top;\n",
       "    }\n",
       "\n",
       "    .dataframe thead th {\n",
       "        text-align: right;\n",
       "    }\n",
       "</style>\n",
       "<table border=\"1\" class=\"dataframe\">\n",
       "  <thead>\n",
       "    <tr style=\"text-align: right;\">\n",
       "      <th></th>\n",
       "      <th>Title</th>\n",
       "      <th>Review</th>\n",
       "      <th>Rating</th>\n",
       "      <th>Review_length</th>\n",
       "    </tr>\n",
       "  </thead>\n",
       "  <tbody>\n",
       "  </tbody>\n",
       "</table>\n",
       "</div>"
      ],
      "text/plain": [
       "Empty DataFrame\n",
       "Columns: [Title, Review, Rating, Review_length]\n",
       "Index: []"
      ]
     },
     "execution_count": 43,
     "metadata": {},
     "output_type": "execute_result"
    }
   ],
   "source": [
    "# dropping the resulting zero-length reviews\n",
    "\n",
    "df.drop(index=df[df['Review_length'] == 0].index, inplace = True)\n",
    "df[df['Review_length'] == 0]"
   ]
  },
  {
   "cell_type": "code",
   "execution_count": 44,
   "id": "c1a8e7d4",
   "metadata": {},
   "outputs": [
    {
     "data": {
      "text/plain": [
       "<matplotlib.collections.PathCollection at 0x25e33a6c1c0>"
      ]
     },
     "execution_count": 44,
     "metadata": {},
     "output_type": "execute_result"
    },
    {
     "data": {
      "image/png": "[encoded data removed]",
      "text/plain": [
       "<Figure size 432x288 with 1 Axes>"
      ]
     },
     "metadata": {
      "needs_background": "light"
     },
     "output_type": "display_data"
    }
   ],
   "source": [
    "from sklearn.preprocessing import StandardScaler\n",
    "y = df.Rating.values\n",
    "X = StandardScaler().fit_transform(X=df.Review_length.values.reshape(-1,1)).flatten()\n",
    "plt.scatter(X,y, alpha=0.1)"
   ]
  },
  {
   "cell_type": "code",
   "execution_count": 49,
   "id": "6f281364",
   "metadata": {},
   "outputs": [],
   "source": [
    "from sklearn.base import BaseEstimator, TransformerMixin\n",
    "class RatingTransformer(BaseEstimator, TransformerMixin):\n",
    "    def fit(self, y: pd.DataFrame, X: pd.DataFrame=None, ):\n",
    "        return self\n",
    "    \n",
    "    def transform(self, data):\n",
    "        new_data = data.copy()\n",
    "        new_data.loc[new_data['Rating'] >= 4, 'Label'] = 2\n",
    "        new_data.loc[new_data['Rating'] == 3, 'Label'] = 1\n",
    "        new_data.loc[new_data['Rating'] <=2, 'Label'] = 0\n",
    "        return new_data\n"
   ]
  },
  {
   "cell_type": "code",
   "execution_count": 50,
   "id": "ff43f798",
   "metadata": {},
   "outputs": [
    {
     "data": {
      "text/html": [
       "<div>\n",
       "<style scoped>\n",
       "    .dataframe tbody tr th:only-of-type {\n",
       "        vertical-align: middle;\n",
       "    }\n",
       "\n",
       "    .dataframe tbody tr th {\n",
       "        vertical-align: top;\n",
       "    }\n",
       "\n",
       "    .dataframe thead th {\n",
       "        text-align: right;\n",
       "    }\n",
       "</style>\n",
       "<table border=\"1\" class=\"dataframe\">\n",
       "  <thead>\n",
       "    <tr style=\"text-align: right;\">\n",
       "      <th></th>\n",
       "      <th>Title</th>\n",
       "      <th>Rating</th>\n",
       "      <th>Label</th>\n",
       "    </tr>\n",
       "  </thead>\n",
       "  <tbody>\n",
       "    <tr>\n",
       "      <th>0</th>\n",
       "      <td>The Seat of the Soul</td>\n",
       "      <td>5.0</td>\n",
       "      <td>2.0</td>\n",
       "    </tr>\n",
       "    <tr>\n",
       "      <th>1</th>\n",
       "      <td>Confessions of a Sociopathic Social Climber: T...</td>\n",
       "      <td>1.0</td>\n",
       "      <td>0.0</td>\n",
       "    </tr>\n",
       "    <tr>\n",
       "      <th>3</th>\n",
       "      <td>Vengeance Is Mine Desire No 493</td>\n",
       "      <td>3.0</td>\n",
       "      <td>1.0</td>\n",
       "    </tr>\n",
       "    <tr>\n",
       "      <th>4</th>\n",
       "      <td>The Western Guide to Feng ShuiRoom by Room</td>\n",
       "      <td>3.0</td>\n",
       "      <td>1.0</td>\n",
       "    </tr>\n",
       "    <tr>\n",
       "      <th>5</th>\n",
       "      <td>The Nightrunners</td>\n",
       "      <td>2.0</td>\n",
       "      <td>0.0</td>\n",
       "    </tr>\n",
       "  </tbody>\n",
       "</table>\n",
       "</div>"
      ],
      "text/plain": [
       "                                               Title  Rating  Label\n",
       "0                               The Seat of the Soul     5.0    2.0\n",
       "1  Confessions of a Sociopathic Social Climber: T...     1.0    0.0\n",
       "3                    Vengeance Is Mine Desire No 493     3.0    1.0\n",
       "4         The Western Guide to Feng ShuiRoom by Room     3.0    1.0\n",
       "5                                   The Nightrunners     2.0    0.0"
      ]
     },
     "execution_count": 50,
     "metadata": {},
     "output_type": "execute_result"
    }
   ],
   "source": [
    "transformed = RatingTransformer().fit_transform(df)\n",
    "transformed.head()[['Title', 'Rating', 'Label']]"
   ]
  },
  {
   "cell_type": "code",
   "execution_count": 51,
   "id": "f3a35c4f",
   "metadata": {},
   "outputs": [],
   "source": [
    "transformed[['Review', 'Label']].to_csv('data_before_train_test_split.csv', index=False)"
   ]
  },
  {
   "cell_type": "code",
   "execution_count": 52,
   "id": "ea0a8fe8",
   "metadata": {},
   "outputs": [],
   "source": [
    "from sklearn.model_selection import train_test_split\n",
    "\n",
    "X, y= transformed['Review'], transformed['Label']\n",
    "x_train, x_test, y_train, y_test = train_test_split(X, \n",
    "                                                    y,\n",
    "                                                    stratify=y, \n",
    "                                                    test_size = 0.2) \n"
   ]
  },
  {
   "cell_type": "code",
   "execution_count": 53,
   "id": "cca2b9ac",
   "metadata": {},
   "outputs": [
    {
     "data": {
      "text/plain": [
       "((79531,), (79531,), (19883,), (19883,))"
      ]
     },
     "execution_count": 53,
     "metadata": {},
     "output_type": "execute_result"
    }
   ],
   "source": [
    "x_train.shape, y_train.shape, x_test.shape, y_test.shape"
   ]
  },
  {
   "cell_type": "code",
   "execution_count": 54,
   "id": "5fc4eedd",
   "metadata": {},
   "outputs": [
    {
     "data": {
      "text/plain": [
       "(TensorShape([79531, 3]), TensorShape([19883, 3]))"
      ]
     },
     "execution_count": 54,
     "metadata": {},
     "output_type": "execute_result"
    }
   ],
   "source": [
    "y_train, y_test = tf.one_hot(y_train, 3), tf.one_hot(y_test, 3)\n",
    "y_train.shape, y_test.shape"
   ]
  },
  {
   "cell_type": "code",
   "execution_count": 55,
   "id": "6e766641",
   "metadata": {},
   "outputs": [],
   "source": [
    "BATCH_SIZE = 64\n",
    "SHUFFLE_BUFFER_SIZE = 128\n",
    "train_dataset = tf.data.Dataset.from_tensor_slices((x_train, y_train)).shuffle(SHUFFLE_BUFFER_SIZE).batch(BATCH_SIZE)\n",
    "test_dataset = tf.data.Dataset.from_tensor_slices((x_test, y_test)).shuffle(SHUFFLE_BUFFER_SIZE//2).batch(BATCH_SIZE)"
   ]
  },
  {
   "cell_type": "code",
   "execution_count": 58,
   "id": "5b0c7056",
   "metadata": {},
   "outputs": [],
   "source": [
    "# View a sample review from a batch and its label\n",
    "for i in train_dataset.take(1):\n",
    "    print(\"Review: \", i[0][0].numpy(), \"\\nLabel: \", i[1][0].numpy())\n",
    "    break    "
   ]
  },
  {
   "cell_type": "code",
   "execution_count": 76,
   "id": "043a7501",
   "metadata": {},
   "outputs": [],
   "source": [
    "from bert_mapping import map_name_to_handle, map_model_to_preprocess\n",
    "\n",
    "bert_model_name = 'small_bert/bert_en_uncased_L-4_H-256_A-4' # change to desired configuration\n",
    "\n",
    "tfhub_handle_encoder = map_name_to_handle[bert_model_name] # map to chosen encoder configuration\n",
    "tfhub_handle_preprocess = map_model_to_preprocess[bert_model_name] # map to chosen preprocessor configuration"
   ]
  },
  {
   "cell_type": "code",
   "execution_count": 96,
   "id": "71ad12bc",
   "metadata": {},
   "outputs": [
    {
     "name": "stdout",
     "output_type": "stream",
     "text": [
      "Model: \"model_1\"\n",
      "__________________________________________________________________________________________________\n",
      " Layer (type)                   Output Shape         Param #     Connected to                     \n",
      "==================================================================================================\n",
      " Reviews (InputLayer)           [(None,)]            0           []                               \n",
      "                                                                                                  \n",
      " Preporcessing (KerasLayer)     {'input_type_ids':   0           ['Reviews[0][0]']                \n",
      "                                (None, 128),                                                      \n",
      "                                 'input_mask': (Non                                               \n",
      "                                e, 128),                                                          \n",
      "                                 'input_word_ids':                                                \n",
      "                                (None, 128)}                                                      \n",
      "                                                                                                  \n",
      " Encoding (KerasLayer)          {'default': (None,   11170561    ['Preporcessing[0][0]',          \n",
      "                                256),                             'Preporcessing[0][1]',          \n",
      "                                 'encoder_outputs':               'Preporcessing[0][2]']          \n",
      "                                 [(None, 128, 256),                                               \n",
      "                                 (None, 128, 256),                                                \n",
      "                                 (None, 128, 256),                                                \n",
      "                                 (None, 128, 256)],                                               \n",
      "                                 'sequence_output':                                               \n",
      "                                 (None, 128, 256),                                                \n",
      "                                 'pooled_output': (                                               \n",
      "                                None, 256)}                                                       \n",
      "                                                                                                  \n",
      " dropout_1 (Dropout)            (None, 256)          0           ['Encoding[0][5]']               \n",
      "                                                                                                  \n",
      " Classifier (Dense)             (None, 3)            771         ['dropout_1[0][0]']              \n",
      "                                                                                                  \n",
      "==================================================================================================\n",
      "Total params: 11,171,332\n",
      "Trainable params: 11,171,331\n",
      "Non-trainable params: 1\n",
      "__________________________________________________________________________________________________\n"
     ]
    }
   ],
   "source": [
    "def build_model(tfhub_handle_preprocess, tfhub_handle_encoder):\n",
    "    '''\n",
    "    This function builds a text classifier model\n",
    "    '''\n",
    "    text_input = tf.keras.layers.Input(shape=(), dtype=tf.string, name='Reviews') # takes on any shape input\n",
    "    preprocessing_layer = hub.KerasLayer(tfhub_handle_preprocess, \n",
    "                                         name='Preporcessing') # BERT preprocessing layer\n",
    "    \n",
    "    encoder_inputs = preprocessing_layer(text_input) # BERT encoding layer\n",
    "    encoder = hub.KerasLayer(tfhub_handle_encoder, \n",
    "                             trainable=True, name='Encoding')\n",
    "    outputs = encoder(encoder_inputs)\n",
    "    net = outputs['pooled_output'] # using pooled output since it is sufficient for predictive purposes\n",
    "\n",
    "    # Where actual classifier layers start\n",
    "    net = tf.keras.layers.Dropout(0.1)(net) # dropout optimal at 0.1, anything more or less overfits\n",
    "    # Add dense layers as required. For optimal model, no intermediate dense layers are added\n",
    "    net = tf.keras.layers.Dense(3, activation=\"softmax\", name='Classifier')(net) # only one dense output layer is optimal, any other layers overfit\n",
    "    return tf.keras.Model(text_input, net)\n",
    "\n",
    "\n",
    "loss= tf.keras.losses.CategoricalCrossentropy()\n",
    "metrics = [\n",
    "           tfa.metrics.F1Score(average='weighted', num_classes=3, name=\"Weighted-F1\"),\n",
    "           tf.keras.metrics.AUC(num_thresholds=5, name = \"Area_under_the_curve\"),\n",
    "           tf.keras.metrics.BinaryAccuracy()\n",
    "           ]\n",
    "\n",
    "\n",
    "def compile_model(epochs = 5, train_dataset = train_dataset, lr = 3e-5)\n",
    "\n",
    "    epochs = epochs\n",
    "    steps_per_epoch = tf.data.experimental.cardinality(train_dataset).numpy()\n",
    "    num_train_steps = steps_per_epoch * epochs\n",
    "    # warm up steps help reduce large effects of the initial few training instances\n",
    "    num_warmup_steps = int(0.1*num_train_steps) \n",
    "\n",
    "    init_lr = lr\n",
    "    optimizer = optimization.create_optimizer(init_lr=init_lr,\n",
    "                                              num_train_steps=num_train_steps,\n",
    "                                              num_warmup_steps=num_warmup_steps,\n",
    "                                              # adamw uses a regularization parameter making it better than adam\n",
    "                                              optimizer_type='adamw')\n",
    "\n",
    "# instantiate compile\n",
    "    classifier_model = build_model()\n",
    "\n",
    "# compile model\n",
    "    classifier_model.compile(optimizer=optimizer,\n",
    "                             loss=loss,\n",
    "                             metrics=metrics)\n",
    "    return classifier_model\n",
    "\n",
    "classifier_model = classifier_model()\n",
    "classifier_model.summary()"
   ]
  },
  {
   "cell_type": "code",
   "execution_count": 1,
   "id": "9772f0f7",
   "metadata": {},
   "outputs": [],
   "source": [
    "EPOCHS = 5\n",
    "classifier_model.fit(train_dataset, validation_data=test_dataset, epochs=EPOCHS, batch_size=264)"
   ]
  },
  {
   "cell_type": "code",
   "execution_count": null,
   "id": "b4865a98",
   "metadata": {},
   "outputs": [],
   "source": [
    "tf.keras.models.save_model(classifier_model, 'classifier_model')"
   ]
  },
  {
   "cell_type": "code",
   "execution_count": 61,
   "id": "817555c8",
   "metadata": {},
   "outputs": [],
   "source": [
    "loaded = tf.keras.models.load_model(\"classifier_model\", \n",
    "                                    custom_objects={'KerasLayer':hub.KerasLayer , 'AdamWeightDecay': optimizer})"
   ]
  },
  {
   "cell_type": "code",
   "execution_count": 237,
   "id": "230f6b60",
   "metadata": {},
   "outputs": [],
   "source": [
    "eval_metrics = loaded.evaluate(test_dataset)"
   ]
  },
  {
   "cell_type": "code",
   "execution_count": 236,
   "id": "733e70b3",
   "metadata": {},
   "outputs": [],
   "source": [
    "for i, j in zip(loaded.metrics_names, eval_metrics):\n",
    "    print(f\"Validation {i}: {j}\")"
   ]
  },
  {
   "cell_type": "code",
   "execution_count": 63,
   "id": "3f905230",
   "metadata": {},
   "outputs": [],
   "source": [
    "labels = {0: \"Negative\", 1: \"Neutral\", 2: \"Positive\"}"
   ]
  },
  {
   "cell_type": "markdown",
   "id": "9b8185e9",
   "metadata": {},
   "source": [
    "Predict the sentiment on some made-up reviews"
   ]
  },
  {
   "cell_type": "code",
   "execution_count": 64,
   "id": "7da4b083",
   "metadata": {},
   "outputs": [
    {
     "data": {
      "text/plain": [
       "'Neutral'"
      ]
     },
     "execution_count": 64,
     "metadata": {},
     "output_type": "execute_result"
    }
   ],
   "source": [
    "prediction = loaded.predict(['This book was not what I was expecting but it had good plot twists.'])\n",
    "labels[prediction.argmax()]"
   ]
  },
  {
   "cell_type": "code",
   "execution_count": 65,
   "id": "96bca030",
   "metadata": {},
   "outputs": [
    {
     "data": {
      "text/plain": [
       "'Negative'"
      ]
     },
     "execution_count": 65,
     "metadata": {},
     "output_type": "execute_result"
    }
   ],
   "source": [
    "prediction2 = loaded.predict(['Plot developement was underwhelming. The author could have done better.'])\n",
    "labels[prediction2.argmax()]"
   ]
  },
  {
   "cell_type": "code",
   "execution_count": 66,
   "id": "ee806c13",
   "metadata": {},
   "outputs": [
    {
     "data": {
      "text/plain": [
       "'Positive'"
      ]
     },
     "execution_count": 66,
     "metadata": {},
     "output_type": "execute_result"
    }
   ],
   "source": [
    "prediction3 = loaded.predict(['The author displays great mastery over character composition. Still there is room for improvement'])\n",
    "labels[prediction3.argmax()]"
   ]
  },
  {
   "cell_type": "markdown",
   "id": "b6531fbd",
   "metadata": {},
   "source": [
    "### Text Summarization and Label Propagation\n",
    "\n",
    "\n",
    "Review sentiment doesn't exactly user rating in that:\n",
    "1. The review sentiment reflects the content of the review, so a review for a book or movie about tragedy may imply negative sentiment but may receive a high rating such as a 4/5 or 5/5\n",
    "2. A review that talks about a plot with a \"good ending\" may not nevessarily feature a high user rating but instead may feature a rating or 1/5 or 2/5 given the poor quality of authorship;\n",
    "\n",
    "Given this, it is not only necessary to reuse the ~ 540K records that I've discarded due to their lenght, but it's also necessary to try a pretrained sentence transformer to propagate labels for the review. \n",
    "\n",
    "I'll begin by reloadin the full dataset, conducting the transformation as well as adding a text summarization step, and a label propagation step through the use of HuggingFace's transformers and datasets libraries."
   ]
  },
  {
   "cell_type": "code",
   "execution_count": 2,
   "id": "2aa88677",
   "metadata": {},
   "outputs": [],
   "source": [
    "df = pd.read_csv(\"TITLE_REVIEW_RATING.csv\")  # TODO: train data file name to config\n",
    "\n",
    "# Drop empty reviews/ ratings since they serve no purpose\n",
    "df.dropna(inplace=True)\n",
    "\n",
    "# limit GPU memory allocation by tf text\n",
    "gpu_options = tf.compat.v1.GPUOptions(per_process_gpu_memory_fraction=0.1)\n",
    "sess = tf.compat.v1.Session(config=tf.compat.v1.ConfigProto(gpu_options=gpu_options))\n",
    "\n",
    "# run tokenization/ label encoding pipeline\n",
    "pipeline = Pipeline([\n",
    "    ('Normalize', Normalizer()),\n",
    "    ('LabelTransform', RatingTransformer(review_col='RatingOf5'))])\n",
    "df = pipeline.fit_transform(df)\n",
    "df.drop(columns='temp_col', inplace=True)"
   ]
  },
  {
   "cell_type": "code",
   "execution_count": 3,
   "id": "0f452912",
   "metadata": {},
   "outputs": [],
   "source": [
    "df['WordCount'] = df['Review'].apply(lambda x: len(x.split()))\n",
    "# Drop empty reviews resulting from normalization\n",
    "df.drop(index=df[df['WordCount'] == 0].index, inplace=True)\n",
    "df.drop(index=df[df['WordCount'] > 400].index, inplace=True)\n",
    "\n",
    "long_reviews = df[df['WordCount'] > 100]\n",
    "df.drop(index=df[df['WordCount'] > 100].index, inplace=True)\n",
    "\n",
    "original_sentences = list(long_reviews['Review'])\n",
    "user_ratings = list(long_reviews['RatingOf5'])\n",
    "all_long_reviews = Dataset.from_pandas(long_reviews[['Review']])\n",
    "to_summarize = Dataset.from_pandas(long_reviews[['Review']][:1000])"
   ]
  },
  {
   "cell_type": "code",
   "execution_count": 4,
   "id": "474db94d",
   "metadata": {},
   "outputs": [
    {
     "data": {
      "text/plain": [
       "Dataset({\n",
       "    features: ['Review'],\n",
       "    num_rows: 1000\n",
       "})"
      ]
     },
     "execution_count": 4,
     "metadata": {},
     "output_type": "execute_result"
    }
   ],
   "source": [
    "all_long_reviews = all_long_reviews.remove_columns('__index_level_0__')\n",
    "\n",
    "# take a sample\n",
    "to_summarize = to_summarize.remove_columns('__index_level_0__')\n",
    "to_summarize"
   ]
  },
  {
   "cell_type": "code",
   "execution_count": 5,
   "id": "19c7e6ba",
   "metadata": {},
   "outputs": [],
   "source": [
    "from transformers import pipeline\n",
    "from transformers.pipelines.pt_utils import KeyDataset\n",
    "from tqdm.auto import tqdm\n",
    "\n",
    "config = {'max_length': 50, 'min_length': 5, 'batch_size': 16}\n",
    "def summarize(corpus, device):    \n",
    "    nlp = pipeline(\"summarization\", model='philschmid/bart-large-cnn-samsum', device=device)\n",
    "    lst_summaries = [out for out in tqdm(nlp(KeyDataset(corpus, \"Review\"), **config))]\n",
    "    return lst_summaries\n",
    "# for i, j in zip(original_sentences, predicted):\n",
    "#     print(\"\\n\\nOriginal: \", i, \"\\n\\nSummarized: \", j[0]['summary_text'])"
   ]
  },
  {
   "cell_type": "code",
   "execution_count": 8,
   "id": "9dba04f3",
   "metadata": {},
   "outputs": [],
   "source": [
    "summarized = summarize(corpus=all_long_reviews,device=0) # summarizing all 421,723 records"
   ]
  },
  {
   "cell_type": "code",
   "execution_count": 2,
   "id": "0741e709",
   "metadata": {},
   "outputs": [],
   "source": [
    "summarized = summarize(corpus=to_summarize,device=0)"
   ]
  },
  {
   "cell_type": "markdown",
   "id": "2e5f5e79",
   "metadata": {},
   "source": [
    "Given processor limitation (in my case, it's a 12gb 3060), it'll take me a long time to summarize 500K records in maximum batch size of 16, I will demonstrate that summarization of the longer reviews is less than ideal as contextual elements for sentiment analysis are often eliminated. \n",
    "\n",
    "Instead, I propose sentence by sentence, or every-other-sentence, or begginign-middle-and-end text summary. That splits a review into a list of strings and takes odd/even elements, or takes a couple of sentences from the beginning, end and middle, or takes sentences at the begginning of each paragraph for those review that contain a line character ```\\n```."
   ]
  },
  {
   "cell_type": "markdown",
   "id": "8a6e5c21",
   "metadata": {},
   "source": [
    "### Label propagation"
   ]
  },
  {
   "cell_type": "code",
   "execution_count": 6,
   "id": "5f72dc1b",
   "metadata": {},
   "outputs": [],
   "source": [
    "df['WordCount'] = df['Review'].apply(lambda x: len(x.split()))\n",
    "\n",
    "# Drop empty reviews resulting from normalization\n",
    "df.drop(index=df[df['WordCount'] == 0].index, inplace=True)\n",
    "\n",
    "# Drop long reviews due to network being able to handle only 1024-toekn sequences\n",
    "df.drop(index=df[df['WordCount'] > 800].index, inplace=True)"
   ]
  },
  {
   "cell_type": "code",
   "execution_count": 25,
   "id": "5de48346",
   "metadata": {},
   "outputs": [],
   "source": [
    "df = pd.read_csv('data_for_label_propagate.csv')"
   ]
  },
  {
   "cell_type": "code",
   "execution_count": 27,
   "id": "8777512a",
   "metadata": {},
   "outputs": [
    {
     "name": "stdout",
     "output_type": "stream",
     "text": [
      "<class 'pandas.core.frame.DataFrame'>\n",
      "RangeIndex: 972667 entries, 0 to 972666\n",
      "Data columns (total 5 columns):\n",
      " #   Column     Non-Null Count   Dtype  \n",
      "---  ------     --------------   -----  \n",
      " 0   Title      972667 non-null  object \n",
      " 1   Review     972665 non-null  object \n",
      " 2   RatingOf5  972667 non-null  float64\n",
      " 3   Label      972667 non-null  float64\n",
      " 4   WordCount  972667 non-null  int64  \n",
      "dtypes: float64(2), int64(1), object(2)\n",
      "memory usage: 37.1+ MB\n"
     ]
    }
   ],
   "source": [
    "df.info()"
   ]
  },
  {
   "cell_type": "code",
   "execution_count": 28,
   "id": "548143b0",
   "metadata": {},
   "outputs": [],
   "source": [
    "df = df.astype('str')"
   ]
  },
  {
   "cell_type": "code",
   "execution_count": 4,
   "id": "89c39db4",
   "metadata": {},
   "outputs": [],
   "source": [
    "assert all([isinstance(df['Review'][i], str) for i in range(len(df))])"
   ]
  },
  {
   "cell_type": "code",
   "execution_count": 5,
   "id": "58a6c6ef",
   "metadata": {},
   "outputs": [
    {
     "data": {
      "text/plain": [
       "Dataset({\n",
       "    features: ['Review'],\n",
       "    num_rows: 972667\n",
       "})"
      ]
     },
     "execution_count": 5,
     "metadata": {},
     "output_type": "execute_result"
    }
   ],
   "source": [
    "to_propagate = Dataset.from_pandas(df[['Review']])\n",
    "to_propagate"
   ]
  },
  {
   "cell_type": "code",
   "execution_count": 6,
   "id": "1abe714e",
   "metadata": {},
   "outputs": [],
   "source": [
    "from transformers import pipeline\n",
    "from transformers.pipelines.pt_utils import KeyDataset\n",
    "\n",
    "sentiment_analysis = pipeline(\"text-classification\", model='distilbert-base-uncased-finetuned-sst-2-english', batch_size=256, device=0)\n",
    "prediction = [out for out in sentiment_analysis(KeyDataset(to_propagate, \"Review\"), truncation=\"only_first\")]"
   ]
  },
  {
   "cell_type": "code",
   "execution_count": 19,
   "id": "27c72e49",
   "metadata": {},
   "outputs": [
    {
     "name": "stdout",
     "output_type": "stream",
     "text": [
      "True\n"
     ]
    }
   ],
   "source": [
    "df['PropLabel'] = [1 if prediction[i]['label'] == 'POSITIVE' else -1 for i in range(len(df))]\n",
    "print(sum([1 if prediction[i]['label'] == 'POSITIVE' else -1 for i in range(len(df))]) \n",
    "    == sum(df2['PropLabel']))"
   ]
  },
  {
   "cell_type": "code",
   "execution_count": 30,
   "id": "af918f29",
   "metadata": {},
   "outputs": [],
   "source": [
    "pd.set_option('max_colwidth', 2000)\n",
    "df2[['Review', 'PropLabel']]"
   ]
  },
  {
   "cell_type": "markdown",
   "id": "e4bb7f78",
   "metadata": {},
   "source": [
    "### Training pipeline\n",
    "\n",
    "\n",
    "For training labelled data"
   ]
  },
  {
   "cell_type": "code",
   "execution_count": 7,
   "id": "f95af2ae",
   "metadata": {},
   "outputs": [],
   "source": [
    "import json\n",
    "import numpy as np\n",
    "import pandas as pd\n",
    "import tensorflow as tf\n",
    "import tensorflow_text as tf_text\n",
    "import keras.backend as K\n",
    "import tensorflow_addons as tfa\n",
    "import tensorflow_hub as hub\n",
    "from official.nlp import optimization\n",
    "from sklearn.model_selection import train_test_split\n",
    "from sklearn.pipeline import Pipeline\n",
    "from preprocessing_tools import Normalizer, RatingTransformer\n",
    "from model_tools import build_model, NumpyEncoder"
   ]
  },
  {
   "cell_type": "code",
   "execution_count": 10,
   "id": "bbd49350",
   "metadata": {},
   "outputs": [],
   "source": [
    "df = pd.read_csv(\"TITLE_REVIEW_RATING.csv\")  # TODO: train data file name to config"
   ]
  },
  {
   "cell_type": "code",
   "execution_count": 13,
   "id": "3ad85c1f",
   "metadata": {},
   "outputs": [],
   "source": [
    "df['Review_length'] = df[\"Review\"].apply(lambda x: len(x))\n",
    "df.drop(index=df[df['Review_length'] > 400].index, inplace=True)\n",
    "df.dropna(inplace=True)"
   ]
  },
  {
   "cell_type": "code",
   "execution_count": null,
   "id": "3a44e1b2",
   "metadata": {},
   "outputs": [],
   "source": [
    "pipeline = Pipeline([\n",
    "    ('Normalize', Normalizer()),\n",
    "    ('LabelTransform', RatingTransformer(review_col='RatingOf5'))])"
   ]
  },
  {
   "cell_type": "code",
   "execution_count": 7,
   "id": "3f1d3910",
   "metadata": {},
   "outputs": [],
   "source": [
    "df.sample(150000).to_csv('train_v04_17_2022.csv', index=False)"
   ]
  },
  {
   "cell_type": "code",
   "execution_count": 15,
   "id": "a548f711",
   "metadata": {},
   "outputs": [],
   "source": [
    "df = pipeline.fit_transform(df)"
   ]
  },
  {
   "cell_type": "code",
   "execution_count": 16,
   "id": "9a16e715",
   "metadata": {},
   "outputs": [],
   "source": [
    "df.drop(index=df[df['Review_length'] == 0].index, inplace=True)"
   ]
  },
  {
   "cell_type": "code",
   "execution_count": 13,
   "id": "a2a96cff",
   "metadata": {},
   "outputs": [],
   "source": [
    "index = df.sample(20).index\n",
    "df_to_test = df_.drop(index=df_[df_.index.isin(index)].index)"
   ]
  },
  {
   "cell_type": "markdown",
   "id": "ac7fc37b",
   "metadata": {},
   "source": [
    "Train-test splits"
   ]
  },
  {
   "cell_type": "code",
   "execution_count": 35,
   "id": "fe465725",
   "metadata": {},
   "outputs": [],
   "source": [
    "# Train-test splot\n",
    "X, y= df['Review'], df['Label']\n",
    "x_train, x_val, y_train, y_val = train_test_split(X, \n",
    "                                                    y,\n",
    "                                                    stratify=y, \n",
    "                                                    test_size = 0.2)\n",
    "y_train, y_val = tf.one_hot(y_train, 3), tf.one_hot(y_val, 3)"
   ]
  },
  {
   "cell_type": "code",
   "execution_count": 176,
   "id": "39e5db78",
   "metadata": {},
   "outputs": [],
   "source": [
    "df_to_test = df_to_test.sample(20000)\n",
    "x_test, y_test = df_to_test['Review'], df_to_test['Label']\n",
    "y_test = tf.one_hot(y_test, 3)"
   ]
  },
  {
   "cell_type": "code",
   "execution_count": 1,
   "id": "a374f36b",
   "metadata": {},
   "outputs": [],
   "source": [
    "idx = 0\n",
    "for i, j, k in zip(original_sentences, prediciton, user_ratings):\n",
    "    print(\"\\n\\n\", i, j['label'], k, \"\\n\\n\")\n",
    "    idx+=1"
   ]
  },
  {
   "cell_type": "code",
   "execution_count": 177,
   "id": "4b4764d8",
   "metadata": {},
   "outputs": [],
   "source": [
    "# prepare data for compatibility with tensorflow nn\n",
    "BATCH_SIZE = 32 # TODO: config\n",
    "SHUFFLE_BUFFER_SIZE = 32  # TODO: config\n",
    "EPOCHS = 3  # TODO: config\n",
    "train_dataset = tf.data.Dataset.from_tensor_slices((x_train, y_train)).shuffle(SHUFFLE_BUFFER_SIZE).batch(BATCH_SIZE)\n",
    "val_dataset = tf.data.Dataset.from_tensor_slices((x_val, y_val)).shuffle(SHUFFLE_BUFFER_SIZE//2).batch(BATCH_SIZE)"
   ]
  },
  {
   "cell_type": "code",
   "execution_count": 178,
   "id": "d6d87737",
   "metadata": {},
   "outputs": [],
   "source": [
    "test_dataset = tf.data.Dataset.from_tensor_slices((x_test, y_test)).shuffle(SHUFFLE_BUFFER_SIZE).batch(BATCH_SIZE)"
   ]
  },
  {
   "cell_type": "code",
   "execution_count": 153,
   "id": "d9746e33",
   "metadata": {},
   "outputs": [
    {
     "data": {
      "text/plain": [
       "keras.engine.functional.Functional"
      ]
     },
     "execution_count": 153,
     "metadata": {},
     "output_type": "execute_result"
    }
   ],
   "source": [
    "# setup model\n",
    "classifier_model, optimizer = build_model(\n",
    "    train_dataset=train_dataset,\n",
    "    epochs=EPOCHS)\n",
    "type(classifier_model)\n",
    "# classifier_model.summary()"
   ]
  },
  {
   "cell_type": "code",
   "execution_count": 182,
   "id": "1a4c0148",
   "metadata": {},
   "outputs": [],
   "source": [
    "json.dump(optimizer.get_config(), open('opt_config.json', 'w'), cls=NumpyEncoder)"
   ]
  },
  {
   "cell_type": "code",
   "execution_count": 156,
   "id": "79311222",
   "metadata": {},
   "outputs": [],
   "source": [
    "# fit model\n",
    "classifier_model.fit(train_dataset, validation_data=val_dataset, epochs=EPOCHS)"
   ]
  },
  {
   "cell_type": "code",
   "execution_count": 238,
   "id": "cd2e1a23",
   "metadata": {},
   "outputs": [],
   "source": [
    "# evaluate model\n",
    "test_metrics = classifier_model.evaluate(test_dataset)"
   ]
  },
  {
   "cell_type": "code",
   "execution_count": 157,
   "id": "a9ebd20e",
   "metadata": {},
   "outputs": [
    {
     "name": "stderr",
     "output_type": "stream",
     "text": [
      "WARNING:absl:Function `_wrapped_model` contains input name(s) Reviews with unsupported characters which will be renamed to reviews in the SavedModel.\n",
      "WARNING:absl:Found untraced functions such as restored_function_body, restored_function_body, restored_function_body, restored_function_body, restored_function_body while saving (showing 5 of 126). These functions will not be directly callable after loading.\n"
     ]
    },
    {
     "name": "stdout",
     "output_type": "stream",
     "text": [
      "INFO:tensorflow:Assets written to: classifier_model_\\assets\n"
     ]
    },
    {
     "name": "stderr",
     "output_type": "stream",
     "text": [
      "INFO:tensorflow:Assets written to: classifier_model_\\assets\n"
     ]
    }
   ],
   "source": [
    "# save/load model\n",
    "tf.keras.models.save_model(classifier_model, 'classifier_model')"
   ]
  },
  {
   "cell_type": "markdown",
   "id": "4e385197",
   "metadata": {},
   "source": [
    "#### Transfer Learning: Sentence Transformers Pipeline"
   ]
  },
  {
   "cell_type": "code",
   "execution_count": 71,
   "id": "eaf9ab83",
   "metadata": {},
   "outputs": [],
   "source": [
    "import spacy\n",
    "import spacy_transformers\n",
    "import spacy_sentence_bert\n",
    "from sentence_transformers import SentenceTransformer"
   ]
  },
  {
   "cell_type": "code",
   "execution_count": 112,
   "id": "a31877be",
   "metadata": {
    "scrolled": true
   },
   "outputs": [],
   "source": [
    "train_reviews = X.to_list()\n",
    "train_labels = np.array(y)\n",
    "model = SentenceTransformer('all-distilroberta-v1', device='cuda')\n",
    "# Others architechtures that we've tested: 'all-distilroberta-v1', \n",
    "# 'all-mpnet-base-v2', 'all-MiniLM-L12-v2', 'all-MiniLM-L6-v2'"
   ]
  },
  {
   "cell_type": "code",
   "execution_count": 114,
   "id": "c39267e2",
   "metadata": {},
   "outputs": [],
   "source": [
    "sentence_embeddings = model.encode(train_reviews)\n",
    "shape = (sentence_embeddings.shape)[1]"
   ]
  },
  {
   "cell_type": "code",
   "execution_count": 115,
   "id": "0419e213",
   "metadata": {},
   "outputs": [],
   "source": [
    "from numpy import save\n",
    "save('under100_all-distilroberta-v1_sentence_embeddings', sentence_embeddings)"
   ]
  },
  {
   "cell_type": "code",
   "execution_count": 116,
   "id": "0d322e56",
   "metadata": {},
   "outputs": [
    {
     "data": {
      "text/plain": [
       "(450722, 768)"
      ]
     },
     "execution_count": 116,
     "metadata": {},
     "output_type": "execute_result"
    }
   ],
   "source": [
    "sentence_embeddings.shape"
   ]
  },
  {
   "cell_type": "code",
   "execution_count": 117,
   "id": "0928ea94",
   "metadata": {},
   "outputs": [],
   "source": [
    "x=sentence_embeddings\n",
    "y=train_labels\n",
    "x_train, x_test, y_train, y_test = train_test_split(x, \n",
    "                                                    y, \n",
    "                                                    test_size = 0.2, \n",
    "                                                    shuffle=True, \n",
    "                                                    stratify=y)\n",
    "\n",
    "y_train, y_test = tf.one_hot(y_train, 3), tf.one_hot(y_test, 3)\n",
    "# setup train/test datasets for classification\n",
    "train_data = tf.data.Dataset.from_tensor_slices((x_train, y_train))\n",
    "test_data = tf.data.Dataset.from_tensor_slices((x_test, y_test))\n",
    "\n",
    "BATCH_SIZE = 256\n",
    "SHUFFLE_BUFFER_SIZE = 256\n",
    "\n",
    "train_data = train_data.shuffle(SHUFFLE_BUFFER_SIZE).batch(BATCH_SIZE)\n",
    "test_data = test_data.shuffle(SHUFFLE_BUFFER_SIZE//2).batch(BATCH_SIZE)"
   ]
  },
  {
   "cell_type": "code",
   "execution_count": 121,
   "id": "0a4eb987",
   "metadata": {},
   "outputs": [],
   "source": [
    "def build_classifier_model_st():\n",
    "    '''\n",
    "    Basic classification layers that takes in shape equal to the defined encoding size of SBERT\n",
    "    '''\n",
    "    text_input = tf.keras.layers.Input(shape=shape, name='Reviews')\n",
    "    net = tf.keras.layers.Dropout(0.1)(text_input)\n",
    "    # Add dense layers as necessary\n",
    "#     net = tf.keras.layers.Dense(512, activation=\"relu\", name='Dense1')(net)\n",
    "#     net = tf.keras.layers.Dropout(0.1)(net)\n",
    "#     net = tf.keras.layers.Dense(256, activation=\"relu\", name='Dense2')(net)\n",
    "#     net = tf.keras.layers.Dropout(0.1)(net)\n",
    "#     net = tf.keras.layers.Dense(128, activation=\"relu\", name='Dense3')(net)\n",
    "#     net = tf.keras.layers.Dropout(0.1)(net)\n",
    "    net = tf.keras.layers.Dense(64, activation=\"relu\", name='Dense4')(net)\n",
    "    net = tf.keras.layers.Dropout(0.1)(net)\n",
    "    net = tf.keras.layers.Dense(32, activation=\"relu\", name='Dense5')(net)\n",
    "    net = tf.keras.layers.Dense(3, activation=\"softmax\", name='Classifier')(net) \n",
    "    return tf.keras.Model(text_input, net)\n",
    "\n",
    "\n",
    "metrics = [\n",
    "            tfa.metrics.F1Score(average='weighted', num_classes=3, name=\"Weighted-F1\"),\n",
    "            tf.keras.metrics.AUC(),\n",
    "            tf.keras.metrics.CategoricalAccuracy()\n",
    "          ]\n",
    "loss= tf.keras.losses.CategoricalCrossentropy()\n",
    "\n",
    "EPOCHS = 10\n",
    "steps_per_epoch = tf.data.experimental.cardinality(train_data).numpy()\n",
    "num_train_steps = steps_per_epoch * EPOCHS\n",
    "# warm up steps help reduce large effects of the initial few training instances\n",
    "num_warmup_steps = int(0.1*num_train_steps) \n",
    "\n",
    "# Learning rates: optinal and stable at 0.004/0.005, anything above or below has either not converged or was too unstable during training \n",
    "init_lr = 3e-5\n",
    "optimizer = optimization.create_optimizer(init_lr=init_lr,\n",
    "                                          num_train_steps=num_train_steps,\n",
    "                                          num_warmup_steps=num_warmup_steps,\n",
    "                                          # adamw uses a regularization parameter making it better than adam\n",
    "                                          optimizer_type='adamw')\n",
    "\n",
    "classifier_model_st = build_classifier_model_st()\n",
    "\n",
    "# compile model\n",
    "classifier_model_st.compile(optimizer=optimizer,\n",
    "                         loss=loss,\n",
    "                         metrics=metrics) "
   ]
  },
  {
   "cell_type": "code",
   "execution_count": 122,
   "id": "db8901ed",
   "metadata": {},
   "outputs": [
    {
     "name": "stdout",
     "output_type": "stream",
     "text": [
      "Model: \"model_16\"\n",
      "_________________________________________________________________\n",
      " Layer (type)                Output Shape              Param #   \n",
      "=================================================================\n",
      " Reviews (InputLayer)        [(None, 768)]             0         \n",
      "                                                                 \n",
      " dropout_55 (Dropout)        (None, 768)               0         \n",
      "                                                                 \n",
      " Dense4 (Dense)              (None, 64)                49216     \n",
      "                                                                 \n",
      " dropout_56 (Dropout)        (None, 64)                0         \n",
      "                                                                 \n",
      " Dense5 (Dense)              (None, 32)                2080      \n",
      "                                                                 \n",
      " Classifier (Dense)          (None, 3)                 99        \n",
      "                                                                 \n",
      "=================================================================\n",
      "Total params: 51,395\n",
      "Trainable params: 51,395\n",
      "Non-trainable params: 0\n",
      "_________________________________________________________________\n"
     ]
    }
   ],
   "source": [
    "classifier_model_st.summary()"
   ]
  },
  {
   "cell_type": "code",
   "execution_count": 234,
   "id": "dd5eaa4d",
   "metadata": {},
   "outputs": [],
   "source": [
    "classifier_model_st.fit(train_data, \n",
    "                        batch_size=BATCH_SIZE, \n",
    "                        epochs=EPOCHS, \n",
    "                        validation_data=tes_data)"
   ]
  },
  {
   "cell_type": "code",
   "execution_count": null,
   "id": "b19a38c7",
   "metadata": {},
   "outputs": [],
   "source": [
    "classifier_model_st.evaluate(test_data)"
   ]
  },
  {
   "cell_type": "markdown",
   "id": "04fc0d68",
   "metadata": {},
   "source": [
    "### Inference pipeline"
   ]
  },
  {
   "cell_type": "code",
   "execution_count": 183,
   "id": "e9c4b5bc",
   "metadata": {},
   "outputs": [],
   "source": [
    "# load model\n",
    "optimizer = optimization.create_optimizer(init_lr=None,\n",
    "    num_train_steps=None,\n",
    "    num_warmup_steps=None).from_config(json.load(open('opt_config.json', 'r')))\n",
    "\n",
    "loaded = tf.keras.models.load_model(\"classifier_model_\", \n",
    "                                    custom_objects={'KerasLayer':hub.KerasLayer, \n",
    "                                                    'AdamWeightDecay': optimizer})"
   ]
  },
  {
   "cell_type": "code",
   "execution_count": 203,
   "id": "042284f2",
   "metadata": {},
   "outputs": [
    {
     "data": {
      "text/plain": [
       "'Positive'"
      ]
     },
     "execution_count": 203,
     "metadata": {},
     "output_type": "execute_result"
    }
   ],
   "source": [
    "# # predict\n",
    "labels = {0: \"Negative\", 1: \"Neutral\", 2: \"Positive\"} # TODO: config\n",
    "labels[loaded.predict([[i[0].numpy() for i in test_dataset.take(1)][0][1]]).argmax()], "
   ]
  },
  {
   "cell_type": "code",
   "execution_count": 209,
   "id": "cc3e215f",
   "metadata": {},
   "outputs": [
    {
     "data": {
      "text/plain": [
       "'Negative'"
      ]
     },
     "execution_count": 209,
     "metadata": {},
     "output_type": "execute_result"
    }
   ],
   "source": [
    "labels[(\n",
    "    loaded.predict([\"This book doesn't have the most exciting characters; plot development was poor\"]).argmax())]"
   ]
  },
  {
   "cell_type": "code",
   "execution_count": 207,
   "id": "ec86a64a",
   "metadata": {},
   "outputs": [
    {
     "data": {
      "text/plain": [
       "'Neutral'"
      ]
     },
     "execution_count": 207,
     "metadata": {},
     "output_type": "execute_result"
    }
   ],
   "source": [
    "labels[(\n",
    "    loaded.predict([\"This book doesn't have the most exciting characters; plot development wasn't good either\"]).argmax())]"
   ]
  },
  {
   "cell_type": "markdown",
   "id": "5da25418",
   "metadata": {},
   "source": [
    "When doing inference using the model, the model seems to capture pecularities about the style of the comment such as the difference between 'was poor' (classified as negative) and 'wasn't good' (classfied as neutral). Still, a lot more testing is required to confirm whether the validation and test metrics really hold up since it is notoriously difficult to train classifiers on long sentences such as this dataset which comprised of comments that were on average 30-70 words (400 characters)."
   ]
  }
 ],
 "metadata": {
  "kernelspec": {
   "display_name": "Python 3 (ipykernel)",
   "language": "python",
   "name": "python3"
  },
  "language_info": {
   "codemirror_mode": {
    "name": "ipython",
    "version": 3
   },
   "file_extension": ".py",
   "mimetype": "text/x-python",
   "name": "python",
   "nbconvert_exporter": "python",
   "pygments_lexer": "ipython3",
   "version": "3.10.4"
  }
 },
 "nbformat": 4,
 "nbformat_minor": 5
}
